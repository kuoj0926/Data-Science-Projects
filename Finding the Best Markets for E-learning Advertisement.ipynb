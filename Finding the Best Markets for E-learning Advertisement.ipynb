{
 "cells": [
  {
   "cell_type": "markdown",
   "metadata": {},
   "source": [
    "# Introduction"
   ]
  },
  {
   "cell_type": "markdown",
   "metadata": {},
   "source": [
    "We are working for an e-learning company that offers courses on programming, and we want to find the two best markets to advertise our product in."
   ]
  },
  {
   "cell_type": "markdown",
   "metadata": {},
   "source": [
    "data can be downloaded here: https://github.com/freeCodeCamp/2017-new-coder-survey"
   ]
  },
  {
   "cell_type": "code",
   "execution_count": 1,
   "metadata": {
    "collapsed": true
   },
   "outputs": [],
   "source": [
    "import pandas as pd"
   ]
  },
  {
   "cell_type": "code",
   "execution_count": 2,
   "metadata": {},
   "outputs": [],
   "source": [
    "new_coders = pd.read_csv('2017-fCC-New-Coders-Survey-Data.csv',low_memory=0)"
   ]
  },
  {
   "cell_type": "code",
   "execution_count": 3,
   "metadata": {},
   "outputs": [
    {
     "data": {
      "text/html": [
       "<div>\n",
       "<style scoped>\n",
       "    .dataframe tbody tr th:only-of-type {\n",
       "        vertical-align: middle;\n",
       "    }\n",
       "\n",
       "    .dataframe tbody tr th {\n",
       "        vertical-align: top;\n",
       "    }\n",
       "\n",
       "    .dataframe thead th {\n",
       "        text-align: right;\n",
       "    }\n",
       "</style>\n",
       "<table border=\"1\" class=\"dataframe\">\n",
       "  <thead>\n",
       "    <tr style=\"text-align: right;\">\n",
       "      <th></th>\n",
       "      <th>Age</th>\n",
       "      <th>AttendedBootcamp</th>\n",
       "      <th>BootcampFinish</th>\n",
       "      <th>BootcampLoanYesNo</th>\n",
       "      <th>BootcampName</th>\n",
       "      <th>BootcampRecommend</th>\n",
       "      <th>ChildrenNumber</th>\n",
       "      <th>CityPopulation</th>\n",
       "      <th>CodeEventConferences</th>\n",
       "      <th>CodeEventDjangoGirls</th>\n",
       "      <th>...</th>\n",
       "      <th>YouTubeFCC</th>\n",
       "      <th>YouTubeFunFunFunction</th>\n",
       "      <th>YouTubeGoogleDev</th>\n",
       "      <th>YouTubeLearnCode</th>\n",
       "      <th>YouTubeLevelUpTuts</th>\n",
       "      <th>YouTubeMIT</th>\n",
       "      <th>YouTubeMozillaHacks</th>\n",
       "      <th>YouTubeOther</th>\n",
       "      <th>YouTubeSimplilearn</th>\n",
       "      <th>YouTubeTheNewBoston</th>\n",
       "    </tr>\n",
       "  </thead>\n",
       "  <tbody>\n",
       "    <tr>\n",
       "      <th>0</th>\n",
       "      <td>27.0</td>\n",
       "      <td>0.0</td>\n",
       "      <td>NaN</td>\n",
       "      <td>NaN</td>\n",
       "      <td>NaN</td>\n",
       "      <td>NaN</td>\n",
       "      <td>NaN</td>\n",
       "      <td>more than 1 million</td>\n",
       "      <td>NaN</td>\n",
       "      <td>NaN</td>\n",
       "      <td>...</td>\n",
       "      <td>NaN</td>\n",
       "      <td>NaN</td>\n",
       "      <td>NaN</td>\n",
       "      <td>NaN</td>\n",
       "      <td>NaN</td>\n",
       "      <td>NaN</td>\n",
       "      <td>NaN</td>\n",
       "      <td>NaN</td>\n",
       "      <td>NaN</td>\n",
       "      <td>NaN</td>\n",
       "    </tr>\n",
       "    <tr>\n",
       "      <th>1</th>\n",
       "      <td>34.0</td>\n",
       "      <td>0.0</td>\n",
       "      <td>NaN</td>\n",
       "      <td>NaN</td>\n",
       "      <td>NaN</td>\n",
       "      <td>NaN</td>\n",
       "      <td>NaN</td>\n",
       "      <td>less than 100,000</td>\n",
       "      <td>NaN</td>\n",
       "      <td>NaN</td>\n",
       "      <td>...</td>\n",
       "      <td>1.0</td>\n",
       "      <td>NaN</td>\n",
       "      <td>NaN</td>\n",
       "      <td>NaN</td>\n",
       "      <td>NaN</td>\n",
       "      <td>NaN</td>\n",
       "      <td>NaN</td>\n",
       "      <td>NaN</td>\n",
       "      <td>NaN</td>\n",
       "      <td>NaN</td>\n",
       "    </tr>\n",
       "    <tr>\n",
       "      <th>2</th>\n",
       "      <td>21.0</td>\n",
       "      <td>0.0</td>\n",
       "      <td>NaN</td>\n",
       "      <td>NaN</td>\n",
       "      <td>NaN</td>\n",
       "      <td>NaN</td>\n",
       "      <td>NaN</td>\n",
       "      <td>more than 1 million</td>\n",
       "      <td>NaN</td>\n",
       "      <td>NaN</td>\n",
       "      <td>...</td>\n",
       "      <td>NaN</td>\n",
       "      <td>NaN</td>\n",
       "      <td>NaN</td>\n",
       "      <td>1.0</td>\n",
       "      <td>1.0</td>\n",
       "      <td>NaN</td>\n",
       "      <td>NaN</td>\n",
       "      <td>NaN</td>\n",
       "      <td>NaN</td>\n",
       "      <td>NaN</td>\n",
       "    </tr>\n",
       "  </tbody>\n",
       "</table>\n",
       "<p>3 rows × 136 columns</p>\n",
       "</div>"
      ],
      "text/plain": [
       "    Age  AttendedBootcamp  BootcampFinish  BootcampLoanYesNo BootcampName  \\\n",
       "0  27.0               0.0             NaN                NaN          NaN   \n",
       "1  34.0               0.0             NaN                NaN          NaN   \n",
       "2  21.0               0.0             NaN                NaN          NaN   \n",
       "\n",
       "   BootcampRecommend  ChildrenNumber       CityPopulation  \\\n",
       "0                NaN             NaN  more than 1 million   \n",
       "1                NaN             NaN    less than 100,000   \n",
       "2                NaN             NaN  more than 1 million   \n",
       "\n",
       "   CodeEventConferences  CodeEventDjangoGirls         ...           \\\n",
       "0                   NaN                   NaN         ...            \n",
       "1                   NaN                   NaN         ...            \n",
       "2                   NaN                   NaN         ...            \n",
       "\n",
       "   YouTubeFCC  YouTubeFunFunFunction  YouTubeGoogleDev  YouTubeLearnCode  \\\n",
       "0         NaN                    NaN               NaN               NaN   \n",
       "1         1.0                    NaN               NaN               NaN   \n",
       "2         NaN                    NaN               NaN               1.0   \n",
       "\n",
       "   YouTubeLevelUpTuts  YouTubeMIT  YouTubeMozillaHacks YouTubeOther  \\\n",
       "0                 NaN         NaN                  NaN          NaN   \n",
       "1                 NaN         NaN                  NaN          NaN   \n",
       "2                 1.0         NaN                  NaN          NaN   \n",
       "\n",
       "   YouTubeSimplilearn  YouTubeTheNewBoston  \n",
       "0                 NaN                  NaN  \n",
       "1                 NaN                  NaN  \n",
       "2                 NaN                  NaN  \n",
       "\n",
       "[3 rows x 136 columns]"
      ]
     },
     "execution_count": 3,
     "metadata": {},
     "output_type": "execute_result"
    }
   ],
   "source": [
    "new_coders.head(3)"
   ]
  },
  {
   "cell_type": "code",
   "execution_count": 4,
   "metadata": {
    "scrolled": true
   },
   "outputs": [
    {
     "data": {
      "text/plain": [
       "Full-Stack Web Developer                                                                                                                                               0.117706\n",
       "  Front-End Web Developer                                                                                                                                              0.064359\n",
       "  Data Scientist                                                                                                                                                       0.021739\n",
       "Back-End Web Developer                                                                                                                                                 0.020309\n",
       "  Mobile Developer                                                                                                                                                     0.016733\n",
       "Game Developer                                                                                                                                                         0.016304\n",
       "Information Security                                                                                                                                                   0.013158\n",
       "Full-Stack Web Developer,   Front-End Web Developer                                                                                                                    0.009153\n",
       "  Front-End Web Developer, Full-Stack Web Developer                                                                                                                    0.008009\n",
       "  Product Manager                                                                                                                                                      0.007866\n",
       "Data Engineer                                                                                                                                                          0.007580\n",
       "  User Experience Designer                                                                                                                                             0.007437\n",
       "  User Experience Designer,   Front-End Web Developer                                                                                                                  0.006150\n",
       "  Front-End Web Developer, Back-End Web Developer, Full-Stack Web Developer                                                                                            0.005578\n",
       "  DevOps / SysAdmin                                                                                                                                                    0.005149\n",
       "Back-End Web Developer, Full-Stack Web Developer,   Front-End Web Developer                                                                                            0.005149\n",
       "Back-End Web Developer,   Front-End Web Developer, Full-Stack Web Developer                                                                                            0.005149\n",
       "Full-Stack Web Developer,   Front-End Web Developer, Back-End Web Developer                                                                                            0.004434\n",
       "  Front-End Web Developer, Full-Stack Web Developer, Back-End Web Developer                                                                                            0.004291\n",
       "Full-Stack Web Developer,   Mobile Developer                                                                                                                           0.004148\n",
       "  Front-End Web Developer,   User Experience Designer                                                                                                                  0.004148\n",
       "Back-End Web Developer, Full-Stack Web Developer                                                                                                                       0.003862\n",
       "Full-Stack Web Developer, Back-End Web Developer                                                                                                                       0.003719\n",
       "Back-End Web Developer,   Front-End Web Developer                                                                                                                      0.002860\n",
       "Full-Stack Web Developer, Back-End Web Developer,   Front-End Web Developer                                                                                            0.002717\n",
       "Data Engineer,   Data Scientist                                                                                                                                        0.002717\n",
       "  Front-End Web Developer,   Mobile Developer                                                                                                                          0.002574\n",
       "Full-Stack Web Developer,   Data Scientist                                                                                                                             0.002431\n",
       "  Mobile Developer, Game Developer                                                                                                                                     0.002288\n",
       "  Data Scientist, Data Engineer                                                                                                                                        0.002288\n",
       "                                                                                                                                                                         ...   \n",
       "Full-Stack Web Developer,   Data Scientist,   Product Manager,   DevOps / SysAdmin                                                                                     0.000143\n",
       "Information Security, Full-Stack Web Developer,   Product Manager,   DevOps / SysAdmin,   Front-End Web Developer                                                      0.000143\n",
       "  Front-End Web Developer,   Data Scientist,   Mobile Developer, Data Engineer, Full-Stack Web Developer,   User Experience Designer                                   0.000143\n",
       "Full-Stack Web Developer, Information Security,   User Experience Designer,   Data Scientist, Back-End Web Developer,   Mobile Developer,   Front-End Web Developer    0.000143\n",
       "Game Developer,   Product Manager, Full-Stack Web Developer,   Data Scientist,   Mobile Developer, i dunno!!!!                                                         0.000143\n",
       "Full-Stack Web Developer, Game Developer,   Mobile Developer,   Product Manager, Information Security                                                                  0.000143\n",
       "  Mobile Developer, Full-Stack Web Developer, Game Developer,   Product Manager,   Data Scientist, Information Security                                                0.000143\n",
       "Full-Stack Web Developer, Back-End Web Developer,   Mobile Developer,   User Experience Designer,   Front-End Web Developer                                            0.000143\n",
       "  Mobile Developer,   DevOps / SysAdmin,   Front-End Web Developer                                                                                                     0.000143\n",
       "Full-Stack Web Developer, Back-End Web Developer, Data Engineer, Game Developer,   Front-End Web Developer,   Data Scientist                                           0.000143\n",
       "  Data Scientist, Back-End Web Developer, Information Security, Data Engineer,   Mobile Developer                                                                      0.000143\n",
       "Full-Stack Web Developer, Back-End Web Developer,   Mobile Developer, Game Developer, Data Engineer                                                                    0.000143\n",
       "  DevOps / SysAdmin, Full-Stack Web Developer,   Product Manager, Information Security                                                                                 0.000143\n",
       "Back-End Web Developer,   Product Manager,   Data Scientist,   Front-End Web Developer, Data Engineer, Full-Stack Web Developer,   User Experience Designer            0.000143\n",
       "  User Experience Designer,   Data Scientist,   Front-End Web Developer, Full-Stack Web Developer                                                                      0.000143\n",
       "Information Security,   User Experience Designer,   Data Scientist,   Mobile Developer,   DevOps / SysAdmin,   Front-End Web Developer,   Product Manager              0.000143\n",
       "Full-Stack Web Developer, Back-End Web Developer,   Front-End Web Developer, Game Developer,   Mobile Developer                                                        0.000143\n",
       "  DevOps / SysAdmin,   Front-End Web Developer, Data Engineer, Back-End Web Developer, Full-Stack Web Developer                                                        0.000143\n",
       "Full-Stack Web Developer,   Front-End Web Developer,   User Experience Designer, Back-End Web Developer                                                                0.000143\n",
       "Information Security,   DevOps / SysAdmin, Full-Stack Web Developer,   Front-End Web Developer, Back-End Web Developer                                                 0.000143\n",
       "Back-End Web Developer,   Product Manager,   Front-End Web Developer                                                                                                   0.000143\n",
       "  Product Manager, Game Developer, Data Engineer, Full-Stack Web Developer,   Data Scientist, Information Security,   Front-End Web Developer, Software developer      0.000143\n",
       "Back-End Web Developer,   Product Manager,   Mobile Developer                                                                                                          0.000143\n",
       "Full-Stack Web Developer, Back-End Web Developer,   Mobile Developer,   Front-End Web Developer,   Data Scientist,   User Experience Designer                          0.000143\n",
       "Data Engineer,   Data Scientist,   DevOps / SysAdmin                                                                                                                   0.000143\n",
       "Information Security,   Data Scientist,   Quality Assurance Engineer, Data Engineer                                                                                    0.000143\n",
       "  Data Scientist,   Mobile Developer, Back-End Web Developer,   Front-End Web Developer, Information Security, Game Developer, Full-Stack Web Developer                0.000143\n",
       "  Data Scientist, Back-End Web Developer, Data Engineer,   Front-End Web Developer, Full-Stack Web Developer                                                           0.000143\n",
       "  User Experience Designer, Game Developer, Full-Stack Web Developer, Back-End Web Developer,   Front-End Web Developer                                                0.000143\n",
       "Data Engineer, Information Security, Game Developer, Full-Stack Web Developer,   Mobile Developer,   Data Scientist,   User Experience Designer                        0.000143\n",
       "Name: JobRoleInterest, Length: 3213, dtype: float64"
      ]
     },
     "execution_count": 4,
     "metadata": {},
     "output_type": "execute_result"
    }
   ],
   "source": [
    "new_coders['JobRoleInterest'].value_counts(normalize=True)"
   ]
  },
  {
   "cell_type": "markdown",
   "metadata": {},
   "source": [
    "While the data seems very disorganized, it seems like a lot of people are interested in web and mobile development."
   ]
  },
  {
   "cell_type": "code",
   "execution_count": 5,
   "metadata": {
    "scrolled": true
   },
   "outputs": [
    {
     "data": {
      "text/plain": [
       "1     0.316505\n",
       "3     0.158896\n",
       "4     0.152174\n",
       "5     0.120423\n",
       "2     0.108839\n",
       "6     0.067220\n",
       "7     0.038616\n",
       "8     0.017592\n",
       "9     0.009868\n",
       "10    0.004720\n",
       "12    0.003003\n",
       "11    0.001859\n",
       "13    0.000286\n",
       "Name: JobRoleInterest, dtype: float64"
      ]
     },
     "execution_count": 5,
     "metadata": {},
     "output_type": "execute_result"
    }
   ],
   "source": [
    "# split each interest by ','\n",
    "interest_count = new_coders['JobRoleInterest'].dropna().str.split(',')\n",
    "interest_count.apply(lambda x: len(x)).value_counts(normalize=True)"
   ]
  },
  {
   "cell_type": "code",
   "execution_count": 6,
   "metadata": {},
   "outputs": [],
   "source": [
    "web_mobile = new_coders['JobRoleInterest'].dropna().str.contains('Web Developer|Mobile Developer')\n",
    "web_mobile_freq = web_mobile.value_counts(normalize=True)*100"
   ]
  },
  {
   "cell_type": "code",
   "execution_count": 7,
   "metadata": {
    "scrolled": false
   },
   "outputs": [
    {
     "data": {
      "image/png": "[encoded data removed]",
      "text/plain": [
       "<matplotlib.figure.Figure at 0x7fdb20dc59b0>"
      ]
     },
     "metadata": {},
     "output_type": "display_data"
    }
   ],
   "source": [
    "import matplotlib.pyplot as plt\n",
    "%matplotlib inline\n",
    "\n",
    "web_mobile_freq.plot.bar()\n",
    "plt.ylabel(\"Percentages\")\n",
    "plt.xticks([0,1],['web/mobile','others'])\n",
    "plt.show()"
   ]
  },
  {
   "cell_type": "markdown",
   "metadata": {},
   "source": [
    "We can verify that most coders are interested in web/mobile development."
   ]
  },
  {
   "cell_type": "markdown",
   "metadata": {},
   "source": [
    "## New Coders"
   ]
  },
  {
   "cell_type": "code",
   "execution_count": 8,
   "metadata": {},
   "outputs": [],
   "source": [
    "new_coders['JobRoleInterest'].dropna(inplace=True)"
   ]
  },
  {
   "cell_type": "code",
   "execution_count": 9,
   "metadata": {
    "scrolled": true
   },
   "outputs": [
    {
     "data": {
      "text/plain": [
       "United States of America    5791\n",
       "India                       1400\n",
       "United Kingdom               757\n",
       "Canada                       616\n",
       "Brazil                       364\n",
       "Name: CountryLive, dtype: int64"
      ]
     },
     "execution_count": 9,
     "metadata": {},
     "output_type": "execute_result"
    }
   ],
   "source": [
    "new_coders['CountryLive'].value_counts().head()"
   ]
  },
  {
   "cell_type": "markdown",
   "metadata": {},
   "source": [
    "We see that most of the new coders live in the USA, and the next two biggest countries for new coders are India and the UK."
   ]
  },
  {
   "cell_type": "code",
   "execution_count": 10,
   "metadata": {},
   "outputs": [
    {
     "data": {
      "text/plain": [
       "United States of America    37.760824\n",
       "India                        9.128847\n",
       "United Kingdom               4.936098\n",
       "Canada                       4.016693\n",
       "Brazil                       2.373500\n",
       "Name: CountryLive, dtype: float64"
      ]
     },
     "execution_count": 10,
     "metadata": {},
     "output_type": "execute_result"
    }
   ],
   "source": [
    "# percentage\n",
    "(new_coders['CountryLive'].value_counts(normalize=True)*100).head()"
   ]
  },
  {
   "cell_type": "markdown",
   "metadata": {},
   "source": [
    "## Spending money on Learning"
   ]
  },
  {
   "cell_type": "code",
   "execution_count": 11,
   "metadata": {},
   "outputs": [],
   "source": [
    "# avoiding division by 0\n",
    "new_coders['MonthsProgramming'].replace(0,1,inplace=True)"
   ]
  },
  {
   "cell_type": "code",
   "execution_count": 12,
   "metadata": {
    "collapsed": true
   },
   "outputs": [],
   "source": [
    "# how much each coder spends on average every month\n",
    "new_coders['spent_per_month'] = new_coders['MoneyForLearning']/new_coders['MonthsProgramming']"
   ]
  },
  {
   "cell_type": "code",
   "execution_count": 13,
   "metadata": {},
   "outputs": [],
   "source": [
    "new_coders = new_coders[new_coders['spent_per_month'].notnull()]"
   ]
  },
  {
   "cell_type": "code",
   "execution_count": 14,
   "metadata": {
    "collapsed": true
   },
   "outputs": [],
   "source": [
    "new_coders = new_coders[new_coders['CountryLive'].notnull()]"
   ]
  },
  {
   "cell_type": "code",
   "execution_count": 15,
   "metadata": {
    "scrolled": true
   },
   "outputs": [
    {
     "data": {
      "text/plain": [
       "CountryLive\n",
       "United States of America    206.297711\n",
       "India                        66.526198\n",
       "United Kingdom               55.774980\n",
       "Canada                      118.434054\n",
       "Name: spent_per_month, dtype: float64"
      ]
     },
     "execution_count": 15,
     "metadata": {},
     "output_type": "execute_result"
    }
   ],
   "source": [
    "country_mean = new_coders.groupby('CountryLive').mean()\n",
    "country_mean['spent_per_month'][['United States of America',\n",
    "                            'India', 'United Kingdom',\n",
    "                            'Canada']]"
   ]
  },
  {
   "cell_type": "markdown",
   "metadata": {},
   "source": [
    "Excluding the USA, we see that on average, Canadian coders spend the most on learning."
   ]
  },
  {
   "cell_type": "code",
   "execution_count": 16,
   "metadata": {},
   "outputs": [
    {
     "data": {
      "text/plain": [
       "count     7968.000000\n",
       "mean       165.319915\n",
       "std       1513.821754\n",
       "min          0.000000\n",
       "25%          0.000000\n",
       "50%          2.020408\n",
       "75%         33.333333\n",
       "max      80000.000000\n",
       "Name: spent_per_month, dtype: float64"
      ]
     },
     "execution_count": 16,
     "metadata": {},
     "output_type": "execute_result"
    }
   ],
   "source": [
    "country_4 = new_coders[new_coders['CountryLive'].str.contains('United States of America|India|United Kingdom|Canada')]\n",
    "country_4['spent_per_month'].describe()"
   ]
  },
  {
   "cell_type": "code",
   "execution_count": 17,
   "metadata": {
    "scrolled": true
   },
   "outputs": [
    {
     "name": "stderr",
     "output_type": "stream",
     "text": [
      "/dataquest/system/env/python3/lib/python3.4/site-packages/seaborn/categorical.py:454: FutureWarning:\n",
      "\n",
      "remove_na is deprecated and is a private function. Do not use.\n",
      "\n"
     ]
    },
    {
     "data": {
      "image/png": "[encoded data removed]",
      "text/plain": [
       "<matplotlib.figure.Figure at 0x7fdb23c05940>"
      ]
     },
     "metadata": {},
     "output_type": "display_data"
    }
   ],
   "source": [
    "import seaborn as sns\n",
    "\n",
    "sns.boxplot(x='CountryLive',y='spent_per_month',data=country_4)\n",
    "plt.xticks(range(4),['Canada','US','UK','India'])\n",
    "plt.title('Money Spent Per Month by Country')\n",
    "plt.xlabel('Country')\n",
    "plt.ylabel('$ per month')\n",
    "plt.show()"
   ]
  },
  {
   "cell_type": "markdown",
   "metadata": {},
   "source": [
    "After visualizing the distribution of money spent using a boxplot, we see that there are many outliers for each country."
   ]
  },
  {
   "cell_type": "code",
   "execution_count": 18,
   "metadata": {},
   "outputs": [],
   "source": [
    "country_4 = country_4[country_4['spent_per_month']<20000]"
   ]
  },
  {
   "cell_type": "code",
   "execution_count": 19,
   "metadata": {},
   "outputs": [
    {
     "data": {
      "text/plain": [
       "CountryLive\n",
       "Canada                      118.434054\n",
       "India                        66.526198\n",
       "United Kingdom               55.774980\n",
       "United States of America    158.919644\n",
       "Name: spent_per_month, dtype: float64"
      ]
     },
     "execution_count": 19,
     "metadata": {},
     "output_type": "execute_result"
    }
   ],
   "source": [
    "country_4_mean = country_4.groupby('CountryLive').mean()\n",
    "country_4_mean['spent_per_month']"
   ]
  },
  {
   "cell_type": "code",
   "execution_count": 20,
   "metadata": {},
   "outputs": [
    {
     "name": "stderr",
     "output_type": "stream",
     "text": [
      "/dataquest/system/env/python3/lib/python3.4/site-packages/seaborn/categorical.py:454: FutureWarning:\n",
      "\n",
      "remove_na is deprecated and is a private function. Do not use.\n",
      "\n"
     ]
    },
    {
     "data": {
      "image/png": "[encoded data removed]",
      "text/plain": [
       "<matplotlib.figure.Figure at 0x7fdb1f565208>"
      ]
     },
     "metadata": {},
     "output_type": "display_data"
    }
   ],
   "source": [
    "sns.boxplot(x='CountryLive',y='spent_per_month',data=country_4)\n",
    "plt.xticks(range(4),['Canada','US','UK','India'])\n",
    "plt.title('Money Spent Per Month by Country')\n",
    "plt.xlabel('Country')\n",
    "plt.ylabel('$ per month')\n",
    "plt.show()"
   ]
  },
  {
   "cell_type": "code",
   "execution_count": 21,
   "metadata": {},
   "outputs": [
    {
     "data": {
      "text/plain": [
       "CountryLive\n",
       "Canada            118.434054\n",
       "India              58.384006\n",
       "United Kingdom     55.774980\n",
       "Name: spent_per_month, dtype: float64"
      ]
     },
     "execution_count": 21,
     "metadata": {},
     "output_type": "execute_result"
    }
   ],
   "source": [
    "# For first country we select USA\n",
    "country_3 = country_4[country_4['CountryLive'].str.contains('India|United Kingdom|Canada')]\n",
    "country_3 = country_3[country_3['spent_per_month']<6000]\n",
    "country_3_mean = country_3.groupby('CountryLive').mean()\n",
    "country_3_mean['spent_per_month']\n",
    "#we see that India's mean came down significantly"
   ]
  },
  {
   "cell_type": "code",
   "execution_count": 22,
   "metadata": {},
   "outputs": [
    {
     "data": {
      "text/plain": [
       "India             1220\n",
       "United Kingdom     698\n",
       "Canada             578\n",
       "Name: CountryLive, dtype: int64"
      ]
     },
     "execution_count": 22,
     "metadata": {},
     "output_type": "execute_result"
    }
   ],
   "source": [
    "country_3['CountryLive'].value_counts()"
   ]
  },
  {
   "cell_type": "code",
   "execution_count": 23,
   "metadata": {},
   "outputs": [
    {
     "name": "stderr",
     "output_type": "stream",
     "text": [
      "/dataquest/system/env/python3/lib/python3.4/site-packages/seaborn/categorical.py:454: FutureWarning:\n",
      "\n",
      "remove_na is deprecated and is a private function. Do not use.\n",
      "\n"
     ]
    },
    {
     "data": {
      "image/png": "[encoded data removed]",
      "text/plain": [
       "<matplotlib.figure.Figure at 0x7fdb1f565470>"
      ]
     },
     "metadata": {},
     "output_type": "display_data"
    }
   ],
   "source": [
    "sns.boxplot(x='CountryLive',y='spent_per_month',data=country_3)\n",
    "plt.xticks(range(4),['Canada','India','UK'])\n",
    "plt.title('Money Spent Per Month by Country')\n",
    "plt.xlabel('Country')\n",
    "plt.ylabel('$ per month')\n",
    "plt.show()"
   ]
  },
  {
   "cell_type": "markdown",
   "metadata": {},
   "source": [
    "## Potential Customers"
   ]
  },
  {
   "cell_type": "code",
   "execution_count": 24,
   "metadata": {},
   "outputs": [],
   "source": [
    "#potential customers for $59/month subscription\n",
    "less_than_100 = country_3[country_3['spent_per_month']<100]"
   ]
  },
  {
   "cell_type": "code",
   "execution_count": 25,
   "metadata": {
    "scrolled": true
   },
   "outputs": [
    {
     "data": {
      "text/plain": [
       "CountryLive\n",
       "Canada             8.764812\n",
       "India              6.296649\n",
       "United Kingdom    10.295414\n",
       "Name: spent_per_month, dtype: float64"
      ]
     },
     "execution_count": 25,
     "metadata": {},
     "output_type": "execute_result"
    }
   ],
   "source": [
    "less_than_100_mean = less_than_100.groupby('CountryLive').mean()\n",
    "less_than_100_mean['spent_per_month']"
   ]
  },
  {
   "cell_type": "markdown",
   "metadata": {},
   "source": [
    "Surprisingly, UK beat out Canada and India for customers who spent less than $100 a month"
   ]
  },
  {
   "cell_type": "code",
   "execution_count": 26,
   "metadata": {},
   "outputs": [
    {
     "data": {
      "text/plain": [
       "India             1119\n",
       "United Kingdom     636\n",
       "Canada             486\n",
       "Name: CountryLive, dtype: int64"
      ]
     },
     "execution_count": 26,
     "metadata": {},
     "output_type": "execute_result"
    }
   ],
   "source": [
    "less_than_100['CountryLive'].value_counts()"
   ]
  },
  {
   "cell_type": "code",
   "execution_count": 27,
   "metadata": {},
   "outputs": [
    {
     "name": "stderr",
     "output_type": "stream",
     "text": [
      "/dataquest/system/env/python3/lib/python3.4/site-packages/seaborn/categorical.py:454: FutureWarning:\n",
      "\n",
      "remove_na is deprecated and is a private function. Do not use.\n",
      "\n"
     ]
    },
    {
     "data": {
      "image/png": "[encoded data removed]",
      "text/plain": [
       "<matplotlib.figure.Figure at 0x7fdb15584908>"
      ]
     },
     "metadata": {},
     "output_type": "display_data"
    }
   ],
   "source": [
    "sns.boxplot(x='CountryLive',y='spent_per_month',data=less_than_100)\n",
    "plt.xticks(range(4),['Canada','India','UK'])\n",
    "plt.title('Money Spent Per Month by Country')\n",
    "plt.xlabel('Country')\n",
    "plt.ylabel('$ per month')\n",
    "plt.show()"
   ]
  },
  {
   "cell_type": "markdown",
   "metadata": {
    "collapsed": true
   },
   "source": [
    "It is clear that we should definitely advertise in the USA as it is clearly the best choice out of the four countries. The second choice is split between Canada and India where they each have different advantages.\n",
    "* Canada: people willing to pay more per month\n",
    "* India: More people wanting to learn programming"
   ]
  },
  {
   "cell_type": "code",
   "execution_count": null,
   "metadata": {},
   "outputs": [],
   "source": []
  }
 ],
 "metadata": {
  "kernelspec": {
   "display_name": "Python 3",
   "language": "python",
   "name": "python3"
  },
  "language_info": {
   "codemirror_mode": {
    "name": "ipython",
    "version": 3
   },
   "file_extension": ".py",
   "mimetype": "text/x-python",
   "name": "python",
   "nbconvert_exporter": "python",
   "pygments_lexer": "ipython3",
   "version": "3.7.3"
  }
 },
 "nbformat": 4,
 "nbformat_minor": 2
}
